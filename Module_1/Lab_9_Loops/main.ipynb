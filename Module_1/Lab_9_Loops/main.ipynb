{
  "cells": [
    {
      "cell_type": "markdown",
      "metadata": {
        "id": "YPnodxH1qdsg"
      },
      "source": [
        "# Loops\n",
        "\n",
        "Complete the following set of exercises to solidify your knowledge for Loops."
      ]
    },
    {
      "cell_type": "markdown",
      "metadata": {
        "id": "VihzHYo4qdsm"
      },
      "source": [
        "#### 1. Print first 10 natural numbers using while loop"
      ]
    },
    {
      "cell_type": "code",
      "execution_count": 2,
      "metadata": {
        "colab": {
          "base_uri": "https://localhost:8080/"
        },
        "id": "n74jdDOQqdsn",
        "outputId": "782f4d29-51b1-4afe-fc29-6a74b06c6a98"
      },
      "outputs": [
        {
          "output_type": "stream",
          "name": "stdout",
          "text": [
            "1\n",
            "2\n",
            "3\n",
            "4\n",
            "5\n",
            "6\n",
            "7\n",
            "8\n",
            "9\n",
            "10\n"
          ]
        }
      ],
      "source": [
        "i = 1\n",
        "\n",
        "while i <11:\n",
        "  print(i)\n",
        "  i = i + 1"
      ]
    },
    {
      "cell_type": "markdown",
      "metadata": {
        "id": "16ZFKrQgqdsn"
      },
      "source": [
        "#### 2. Display numbers from a list using loop\n",
        "Write a program to display only those numbers from a list that satisfy the following conditions\n",
        "\n",
        "The number must be divisible by five\n",
        "\n",
        "If the number is greater than 150, then skip it and move to the next number\n",
        "\n",
        "If the number is greater than 500, then stop the loop\n",
        "\n",
        "numbers = [12, 75, 150, 180, 145, 525, 50]"
      ]
    },
    {
      "cell_type": "code",
      "execution_count": 46,
      "metadata": {
        "colab": {
          "base_uri": "https://localhost:8080/"
        },
        "id": "6IwZpzx2qdso",
        "outputId": "38002a99-286d-4974-8d7e-be29573bdd4c"
      },
      "outputs": [
        {
          "output_type": "stream",
          "name": "stdout",
          "text": [
            "[75, 150, 145]\n"
          ]
        }
      ],
      "source": [
        "numbers = [12, 75, 150, 180, 145, 525, 50]\n",
        "b = []\n",
        "for i in numbers:\n",
        "    if i > 150:\n",
        "        if i > 500:\n",
        "            break\n",
        "        continue\n",
        "    if i % 5 == 0:\n",
        "        b.append(i)\n",
        "        \n",
        "print(b)\n",
        "\n"
      ]
    },
    {
      "cell_type": "markdown",
      "metadata": {
        "id": "vFQ9M5trqdso"
      },
      "source": [
        "#### 3.Write a Python program to check the validity of a password (input from users).\n",
        "\n",
        "Validation :\n",
        "\n",
        "At least 1 letter between [a-z] and 1 letter between [A-Z].\n",
        "\n",
        "At least 1 number between [0-9].\n",
        "\n",
        "At least 1 character from [$#@].\n",
        "\n",
        "Minimum length 6 characters.\n",
        "\n",
        "Maximum length 16 characters."
      ]
    },
    {
      "cell_type": "code",
      "execution_count": 44,
      "metadata": {
        "colab": {
          "base_uri": "https://localhost:8080/"
        },
        "id": "m5LCTbjYqdsp",
        "outputId": "fa064ea5-a185-4896-8ad1-d46e638740d6"
      },
      "outputs": [
        {
          "output_type": "stream",
          "name": "stdout",
          "text": [
            "Input your passwordDamian69db!#\n",
            "Valid Password\n"
          ]
        }
      ],
      "source": [
        "import re\n",
        "p= input(\"Input your password\")\n",
        "x = True\n",
        "while x:  \n",
        "    if (len(p)<6 or len(p)>12):\n",
        "        break\n",
        "    elif not re.search(\"[a-z]\",p):\n",
        "        break\n",
        "    elif not re.search(\"[0-9]\",p):\n",
        "        break\n",
        "    elif not re.search(\"[A-Z]\",p):\n",
        "        break\n",
        "    elif not re.search(\"[$#@]\",p):\n",
        "        break\n",
        "    elif re.search(\"\\s\",p):\n",
        "        break\n",
        "    else:\n",
        "        print(\"Valid Password\")\n",
        "        x=False\n",
        "        break\n",
        "\n",
        "if x:\n",
        "    print(\"Not a Valid Password\")\n",
        "\n",
        "#TBA"
      ]
    },
    {
      "cell_type": "markdown",
      "metadata": {
        "id": "Jq4kGguMqdsp"
      },
      "source": [
        "#### 4. Break the loop when x is 6, and see what happens with the else block"
      ]
    },
    {
      "cell_type": "code",
      "execution_count": 29,
      "metadata": {
        "colab": {
          "base_uri": "https://localhost:8080/"
        },
        "id": "KOqOdMfYqdsq",
        "outputId": "7d655321-9794-4164-ed1a-e16d7854ea18"
      },
      "outputs": [
        {
          "output_type": "stream",
          "name": "stdout",
          "text": [
            "1\n",
            "2\n",
            "3\n",
            "4\n",
            "5\n",
            "6\n"
          ]
        }
      ],
      "source": [
        "x = 0\n",
        "\n",
        "while x <6:\n",
        "  x = x +1\n",
        "  print(x)\n",
        "  if x ==6:\n",
        "    break\n",
        "else:\n",
        "  print(x)\n"
      ]
    },
    {
      "cell_type": "markdown",
      "metadata": {
        "id": "ttZEI-xhqdsq"
      },
      "source": [
        "#### 5. Write a Python program to calculate the sum and average of n integer numbers (input from the user). Input 0 to finish.\n"
      ]
    },
    {
      "cell_type": "code",
      "execution_count": 37,
      "metadata": {
        "colab": {
          "base_uri": "https://localhost:8080/"
        },
        "id": "uJSj0eyKqdsr",
        "outputId": "df780b0b-a869-4293-99d4-e197ef552617"
      },
      "outputs": [
        {
          "output_type": "stream",
          "name": "stdout",
          "text": [
            "1\n",
            "2\n",
            "3\n",
            "4\n",
            "5\n",
            "6\n",
            "0\n",
            "Average and Sum of the above numbers are:  3.5 21.0\n"
          ]
        }
      ],
      "source": [
        "count = 0\n",
        "sum = 0.0\n",
        "number = 1\n",
        "\n",
        "while number != 0:\n",
        "\tnumber = int(input(\"\"))\n",
        "\tsum = sum + number\n",
        "\tcount += 1\n",
        "\n",
        "if count == 0:\n",
        "\tprint(\"Input some numbers\")\n",
        "else:\n",
        "\tprint(\"Average and Sum of the above numbers are: \", sum / (count-1), sum)\n",
        "  "
      ]
    }
  ],
  "metadata": {
    "kernelspec": {
      "display_name": "Python 3",
      "language": "python",
      "name": "python3"
    },
    "language_info": {
      "codemirror_mode": {
        "name": "ipython",
        "version": 3
      },
      "file_extension": ".py",
      "mimetype": "text/x-python",
      "name": "python",
      "nbconvert_exporter": "python",
      "pygments_lexer": "ipython3",
      "version": "3.7.4"
    },
    "colab": {
      "provenance": [],
      "collapsed_sections": []
    }
  },
  "nbformat": 4,
  "nbformat_minor": 0
}