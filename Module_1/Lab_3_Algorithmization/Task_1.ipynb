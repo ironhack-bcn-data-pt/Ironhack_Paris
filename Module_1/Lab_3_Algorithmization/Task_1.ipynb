{
  "nbformat": 4,
  "nbformat_minor": 0,
  "metadata": {
    "colab": {
      "provenance": [],
      "collapsed_sections": []
    },
    "kernelspec": {
      "name": "python3",
      "display_name": "Python 3"
    },
    "language_info": {
      "name": "python"
    }
  },
  "cells": [
    {
      "cell_type": "code",
      "execution_count": 19,
      "metadata": {
        "colab": {
          "base_uri": "https://localhost:8080/"
        },
        "id": "kRDEIAi6c2Uz",
        "outputId": "fab95a5a-db05-4203-fdc4-1562fcf6aa09"
      },
      "outputs": [
        {
          "output_type": "stream",
          "name": "stdout",
          "text": [
            "1\n",
            "Prime need to be >1\n"
          ]
        }
      ],
      "source": [
        "x = int(input())\n",
        "\n",
        "if x <=1:\n",
        "  print(\"Prime need to be >1\")\n",
        "elif x % 2 == 0:\n",
        "  print(\"This is Prime Number!\")\n",
        "else:\n",
        "  print(\"This is not a Prime Number\")"
      ]
    }
  ]
}