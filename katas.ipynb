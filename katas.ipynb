{
  "nbformat": 4,
  "nbformat_minor": 0,
  "metadata": {
    "colab": {
      "provenance": [],
      "collapsed_sections": []
    },
    "kernelspec": {
      "name": "python3",
      "display_name": "Python 3"
    },
    "language_info": {
      "name": "python"
    }
  },
  "cells": [
    {
      "cell_type": "markdown",
      "source": [
        "![logo_ironhack_blue 7](https://user-images.githubusercontent.com/23629340/40541063-a07a0a8a-601a-11e8-91b5-2f13e4e6b441.png)\n",
        "\n",
        "# Lab 10 | Functional programming\n",
        "\n",
        "## Introduction\n",
        "\n",
        "Functional programming is a programming paradigm where programs are constructed by applying and composing functions. Let's practice on this approach!\n",
        "\n",
        "\n",
        "## Getting Started\n",
        "Register [here] (https://www.codewars.com/)  and [here] (https://www.codingame.com/).\n",
        "\n",
        "You are more than suggested to practice with katas on those websites, it helps you to set up your mind and improve your coding skills.\n",
        "\n",
        "As they say: 5 katas per day keep the coronavirus away (Actually it is truth, since you spend more time in front of your laptops :D)\n",
        "\n",
        "And as for now - please join the kata challenge.\n",
        "* [Counting Sheeps] (https://www.codewars.com/kata/54edbc7200b811e956000556)\n",
        "* [Removing elements] (https://www.codewars.com/kata/5769b3802ae6f8e4890009d2)\n",
        "* [Convert number to reversed array of digits](https://www.codewars.com/kata/5583090cbe83f4fd8c000051)\n",
        "* [Square every digit] (https://www.codewars.com/kata/546e2562b03326a88e000020)\n",
        "* [Counting Total Occurence Of Specific Digits](https://www.codewars.com/kata/56311e4fdd811616810000ce)\n",
        "\n",
        "\n",
        "## Deliverables\n",
        "\n",
        "- `katas.ipynb` with solved katas.\n",
        "\n",
        "## Submission\n",
        "\n",
        "Upon completion, add your deliverables to git. Then commit git and push your branch to the remote."
      ],
      "metadata": {
        "id": "bRckGPt-UO5D"
      }
    },
    {
      "cell_type": "markdown",
      "source": [
        "**[Counting Sheeps]**\n",
        "DESCRIPTION:\n",
        "Consider an array/list of sheep where some sheep may be missing from their place. We need a function that counts the number of sheep present in the array (true means present).\n",
        "\n",
        "For example,\n",
        "\n",
        "[True,  True,  True,  False,\n",
        "  True,  True,  True,  True ,\n",
        "  True,  False, True,  False,\n",
        "  True,  False, False, True ,\n",
        "  True,  True,  True,  True ,\n",
        "  False, False, True,  True]\n",
        "  \n",
        "The correct answer would be 17.\n",
        "\n",
        "Hint: Don't forget to check for bad values like null/undefined"
      ],
      "metadata": {
        "id": "SrgZlR9pUrX5"
      }
    },
    {
      "cell_type": "code",
      "source": [
        "array=[True, True, True, False, True, True, True, True , True, False, True, False, True, False, False, True , True, True, True, True , False, False, True, True]\n",
        "\n",
        "def count_sheeps(array):\n",
        "    amount = 0\n",
        "    for sheep in array:\n",
        "        if (sheep == True):\n",
        "            amount += 1\n",
        "    return amount\n",
        "\n",
        "count_sheeps(array)"
      ],
      "metadata": {
        "colab": {
          "base_uri": "https://localhost:8080/"
        },
        "id": "zkXKuDAGUy7J",
        "outputId": "b04d4e96-8950-47b3-acd5-83a4dd5f9a05"
      },
      "execution_count": null,
      "outputs": [
        {
          "output_type": "execute_result",
          "data": {
            "text/plain": [
              "17"
            ]
          },
          "metadata": {},
          "execution_count": 19
        }
      ]
    },
    {
      "cell_type": "markdown",
      "source": [
        "**[Removing elements]** Take an array and remove every second element from the array. Always keep the first element and start removing with the next element.\n",
        "\n",
        "Example:\n",
        "[\"Keep\", \"Remove\", \"Keep\", \"Remove\", \"Keep\", ...] --> [\"Keep\", \"Keep\", \"Keep\", ...]\n",
        "\n",
        "None of the arrays will be empty, so you don't have to worry about that!"
      ],
      "metadata": {
        "id": "U3_TRetodFQM"
      }
    },
    {
      "cell_type": "code",
      "source": [
        "x = [\"Keep\",\"Remove\",\"Keep\",\"Remove\",\"Keep\",\"Remove\",\"Keep\",\"Remove\",\"Keep\",\"Remove\",\"Keep\",\"Remove\",\"Keep\",\"Remove\",]\n",
        "\n",
        "y = x[::2]\n",
        "\n",
        "print(y)"
      ],
      "metadata": {
        "colab": {
          "base_uri": "https://localhost:8080/"
        },
        "id": "IO3xabaJfKhR",
        "outputId": "ad1c4022-6dec-44df-e897-ade25b43c683"
      },
      "execution_count": null,
      "outputs": [
        {
          "output_type": "stream",
          "name": "stdout",
          "text": [
            "['Keep', 'Keep', 'Keep', 'Keep', 'Keep', 'Keep', 'Keep']\n"
          ]
        }
      ]
    },
    {
      "cell_type": "markdown",
      "source": [
        "**Convert number to reversed array of digits**\n",
        "\n",
        "Given a random non-negative number, you have to return the digits of this number within an array in reverse order.\n",
        "\n",
        "Example(Input => Output):\n",
        "35231 => [1,3,2,5,3]\n",
        "0 => [0]"
      ],
      "metadata": {
        "id": "jxOPAMK1hptB"
      }
    },
    {
      "cell_type": "code",
      "source": [
        "def digitize(x):\n",
        "    return [int(s) for s in str(x)][::-1]\n",
        "\n",
        "print(digitize(input()))"
      ],
      "metadata": {
        "id": "6p7A7fwehqQ7",
        "colab": {
          "base_uri": "https://localhost:8080/"
        },
        "outputId": "421a4d1b-6917-4c15-d33a-37aca9324b32"
      },
      "execution_count": 35,
      "outputs": [
        {
          "output_type": "stream",
          "name": "stdout",
          "text": [
            "12354675\n",
            "[5, 7, 6, 4, 5, 3, 2, 1]\n"
          ]
        }
      ]
    },
    {
      "cell_type": "markdown",
      "source": [
        "**[Square every digit]**\n",
        "Welcome. In this kata, you are asked to square every digit of a number and concatenate them.\n",
        "\n",
        "For example, if we run 9119 through the function, 811181 will come out, because 92 is 81 and 12 is 1.\n",
        "\n",
        "Note: The function accepts an integer and returns an integer\n",
        "\n"
      ],
      "metadata": {
        "id": "UGBDDRsknQt3"
      }
    },
    {
      "cell_type": "code",
      "source": [
        "def sq(num):\n",
        "    z = ''.join(str(int(i)**2) for i in str(num))\n",
        "    return int(z)\n",
        "\n",
        "sq(input())"
      ],
      "metadata": {
        "colab": {
          "base_uri": "https://localhost:8080/"
        },
        "id": "rBZtIOAinWg6",
        "outputId": "7d13b8b5-4d4c-4050-e453-f725ae4a4dbb"
      },
      "execution_count": 37,
      "outputs": [
        {
          "name": "stdout",
          "output_type": "stream",
          "text": [
            "12345\n"
          ]
        },
        {
          "output_type": "execute_result",
          "data": {
            "text/plain": [
              "1491625"
            ]
          },
          "metadata": {},
          "execution_count": 37
        }
      ]
    },
    {
      "cell_type": "markdown",
      "source": [
        "**Counting Total Occurence Of Specific Digits**\n",
        "\n",
        "We need a method in the List Class that may count specific digits from a given list of integers. This marked digits will be given in a second list. The method .count_spec_digits()/.countSpecDigits() will accept two arguments, a list of an uncertain amount of integers integers_lists/integersLists (and of an uncertain amount of digits, too) and a second list, digits_list/digitsList that has the specific digits to count which length cannot be be longer than 10 (It's obvious, we've got ten digits). The method will output a list of tuples, each tuple having two elements, the first one will be a digit to count, and second one, its corresponding total frequency in all the integers of the first list. This list of tuples should be ordered with the same order that the digits have in digitsList\n",
        "\n",
        "Let's see some cases:\n",
        "l = List()\n",
        "\n",
        "integers_list =  [1, 1, 2 ,3 ,1 ,2 ,3 ,4]\n",
        "\n",
        "digits_list = [1, 3]\n",
        "\n",
        "l.count_spec_digits(integers_list, digits_list) == [(1, 3), (3, 2)]\n",
        "\n",
        "\n",
        "integers_list = [-18, -31, 81, -19, 111, -888]\n",
        "\n",
        "digits_list = [1, 8, 4]\n",
        "\n",
        "l.count_spec_digits(integers_list, digits_list) == [(1, 7), (8, 5), (4, 0)]\n",
        "\n",
        "\n",
        "integers_list = [-77, -65, 56, -79, 6666, 222]\n",
        "\n",
        "digits_list = [1, 8, 4]\n",
        "\n",
        "l.count_spec_digits(integers_list, digits_list) == [(1, 0), (8, 0), (4, 0)]"
      ],
      "metadata": {
        "id": "WxN-65jzqgLB"
      }
    },
    {
      "cell_type": "code",
      "source": [
        "d = 2\n",
        "n = 214215421\n",
        "\n",
        "def countoccurrences(n, d):\n",
        "    count = 0\n",
        " \n",
        "    # Loop to find the digits of N\n",
        "    while (n > 0):\n",
        " \n",
        "        # check if the digit is D\n",
        "        if(n % 10 == d):\n",
        "            count = count + 1\n",
        "  \n",
        "        n = n // 10\n",
        " \n",
        "    # return the count of the\n",
        "    # occurrences of D in N\n",
        "    return count\n",
        "\n",
        "print(countoccurrences(n, d))"
      ],
      "metadata": {
        "colab": {
          "base_uri": "https://localhost:8080/"
        },
        "id": "bryjR8Giqpjs",
        "outputId": "fa7a9cae-a97b-4490-cba4-06c162790771"
      },
      "execution_count": 41,
      "outputs": [
        {
          "output_type": "stream",
          "name": "stdout",
          "text": [
            "3\n"
          ]
        }
      ]
    }
  ]
}