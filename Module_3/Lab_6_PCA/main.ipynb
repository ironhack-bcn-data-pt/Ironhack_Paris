{
 "cells": [
  {
   "cell_type": "markdown",
   "metadata": {},
   "source": [
    "# Before your start:\n",
    "- Read the README.md file\n",
    "- Comment as much as you can and use the resources (README.md file)\n",
    "- Happy learning!"
   ]
  },
  {
   "cell_type": "code",
   "execution_count": 1,
   "metadata": {},
   "outputs": [],
   "source": [
    "# Run this code:\n",
    "\n",
    "%matplotlib inline\n",
    "\n",
    "import matplotlib.pyplot as plt\n",
    "import seaborn as sns"
   ]
  },
  {
   "cell_type": "code",
   "execution_count": 2,
   "metadata": {},
   "outputs": [],
   "source": [
    "# Import numpy and pandas:\n",
    "import numpy as np\n",
    "import pandas as pd"
   ]
  },
  {
   "cell_type": "markdown",
   "metadata": {},
   "source": [
    "# Challenge 1 - Reading and Standardizing the Data\n",
    "\n",
    "In this challenge we will work with image data and reduce the dimensions of the data to create a 2 dimensional plot. While we have not worked much with image data before, it can be represented as a numpy array where each pixel is assigned a numeric value. In this lesson, we will look at a dataset of cats and a dataset of dogs and see whether reducing them to two dimensions allows us to see if the data is separable. We will start by loading and processing the data. Run the cell below to load the two csv files and convert them into numpy arrays."
   ]
  },
  {
   "cell_type": "code",
   "execution_count": 3,
   "metadata": {},
   "outputs": [],
   "source": [
    "# Run this code\n",
    "\n",
    "cats = np.array(pd.read_csv(\"https://raw.githubusercontent.com/bioramble/pca/master/cat.csv\", header=None))\n",
    "dogs = np.array(pd.read_csv(\"https://raw.githubusercontent.com/bioramble/pca/master/dog.csv\", header=None))"
   ]
  },
  {
   "cell_type": "markdown",
   "metadata": {},
   "source": [
    "Next, we'll examine the shape of both the cats and the dogs arrays. Print out both shapes below."
   ]
  },
  {
   "cell_type": "code",
   "execution_count": 6,
   "metadata": {},
   "outputs": [
    {
     "data": {
      "text/plain": [
       "(4096, 80)"
      ]
     },
     "execution_count": 6,
     "metadata": {},
     "output_type": "execute_result"
    }
   ],
   "source": [
    "# Your code here:\n",
    "\n",
    "cats.shape"
   ]
  },
  {
   "cell_type": "code",
   "execution_count": 7,
   "metadata": {},
   "outputs": [
    {
     "data": {
      "text/plain": [
       "(4096, 80)"
      ]
     },
     "execution_count": 7,
     "metadata": {},
     "output_type": "execute_result"
    }
   ],
   "source": [
    "dogs.shape"
   ]
  },
  {
   "cell_type": "markdown",
   "metadata": {},
   "source": [
    "What this means is that both arrays contain 80 images each (the number of columns). Each image is comprised of 64x64 pixels (so a total of 4096 pixels per image). The images have been flattened such that all 4096 are in a single row.\n",
    "\n",
    "Print out column 0 of the cats array to see what the pixels values look like."
   ]
  },
  {
   "cell_type": "code",
   "execution_count": 8,
   "metadata": {},
   "outputs": [
    {
     "data": {
      "text/plain": [
       "array([[ 64,  23, 250, ...,  60, 223, 101],\n",
       "       [ 64,  23, 250, ...,  50, 224, 107],\n",
       "       [ 64,  20, 250, ...,  63, 225, 106],\n",
       "       ...,\n",
       "       [ 64,  31, 244, ..., 105, 180, 114],\n",
       "       [ 64,  23, 232, ..., 118, 182,  91],\n",
       "       [ 61,   9, 244, ..., 104, 177, 113]], dtype=int64)"
      ]
     },
     "execution_count": 8,
     "metadata": {},
     "output_type": "execute_result"
    }
   ],
   "source": [
    "# Your code here:\n",
    "\n",
    "type(cats) #numpy.ndarray\n",
    "cats"
   ]
  },
  {
   "cell_type": "code",
   "execution_count": 9,
   "metadata": {},
   "outputs": [
    {
     "data": {
      "text/plain": [
       "array([ 64,  23, 250, 137,  55, 173,  18, 134,  19,  47, 109, 164,  41,\n",
       "        78, 108, 108, 247, 105, 158,  54, 103,   4,  23, 102, 239,  72,\n",
       "        42,  21, 168, 109, 112, 177,  22, 233,  15, 236, 250, 137,  32,\n",
       "         5, 178, 109,  24, 107,  53, 241, 226, 143,   5, 136,  98, 100,\n",
       "        89,  66, 228,  92, 255,  88, 230,  56, 160,  69,   6,  24, 195,\n",
       "       183, 239,  35, 154, 154, 122,  18,  87, 106, 174,  69,  28,  60,\n",
       "       223, 101], dtype=int64)"
      ]
     },
     "execution_count": 9,
     "metadata": {},
     "output_type": "execute_result"
    }
   ],
   "source": [
    "# Your code here:\n",
    "cats[0]"
   ]
  },
  {
   "cell_type": "markdown",
   "metadata": {},
   "source": [
    "Using `matplotlib` we can plot a single cat or a single dog. We do this by reshaping the vector back to a 64x64 image and then using the `imshow` function.\n",
    "\n",
    "Run the code below to look at the first dog and the first cat."
   ]
  },
  {
   "cell_type": "code",
   "execution_count": 10,
   "metadata": {},
   "outputs": [
    {
     "data": {
      "text/plain": [
       "80"
      ]
     },
     "execution_count": 10,
     "metadata": {},
     "output_type": "execute_result"
    }
   ],
   "source": [
    "len(cats[0])"
   ]
  },
  {
   "cell_type": "code",
   "execution_count": 11,
   "metadata": {},
   "outputs": [
    {
     "data": {
      "text/plain": [
       "<matplotlib.image.AxesImage at 0x28d5daeb5e0>"
      ]
     },
     "execution_count": 11,
     "metadata": {},
     "output_type": "execute_result"
    },
    {
     "data": {
      "image/png": "[encoded data removed]",
      "text/plain": [
       "<Figure size 640x480 with 1 Axes>"
      ]
     },
     "metadata": {},
     "output_type": "display_data"
    }
   ],
   "source": [
    "# Run this code:\n",
    "\n",
    "fig, ax = plt.subplots()\n",
    "ax.imshow(np.asarray([cats[x,0] for x in range(0,len(cats))]).reshape(64, 64).T, cmap=plt.cm.bone, interpolation='nearest') "
   ]
  },
  {
   "cell_type": "code",
   "execution_count": 12,
   "metadata": {},
   "outputs": [
    {
     "data": {
      "text/plain": [
       "<matplotlib.image.AxesImage at 0x28d5e93a3a0>"
      ]
     },
     "execution_count": 12,
     "metadata": {},
     "output_type": "execute_result"
    },
    {
     "data": {
      "image/png": "[encoded data removed]",
      "text/plain": [
       "<Figure size 640x480 with 1 Axes>"
      ]
     },
     "metadata": {},
     "output_type": "display_data"
    }
   ],
   "source": [
    "# Run this code:\n",
    "\n",
    "fig, ax = plt.subplots()\n",
    "ax.imshow(np.asarray(dogs[:,0]).reshape(64, 64).T, cmap=plt.cm.bone, interpolation='nearest') "
   ]
  },
  {
   "cell_type": "code",
   "execution_count": 13,
   "metadata": {},
   "outputs": [
    {
     "data": {
      "text/plain": [
       "(4096, 160)"
      ]
     },
     "execution_count": 13,
     "metadata": {},
     "output_type": "execute_result"
    }
   ],
   "source": [
    "# Your code here:\n",
    "dc = np.concatenate((dogs, cats), axis=1)\n",
    "dc.shape"
   ]
  },
  {
   "cell_type": "markdown",
   "metadata": {},
   "source": [
    "Next, we would like to create a standardization function. This function will find the mean and standard deviation of each image. We subtract the mean from each pixel and divide each pixel by the standard deviation. Write the function below.\n",
    "\n",
    "Hint: To find the mean and standard deviation of each image, use `numpy`'s version of mean and stadnard deviation and use `axis=0`."
   ]
  },
  {
   "cell_type": "code",
   "execution_count": 14,
   "metadata": {},
   "outputs": [],
   "source": [
    "#Your code here:\n",
    "\n",
    "def stand(x):\n",
    "    for i in range(x.shape[1]):\n",
    "        p_mean = np.mean(x[:, i])\n",
    "        p_std = np.std(x[:, i])\n",
    "        x[:, i] = (x[:, i] - p_mean) / p_std\n",
    "    return x"
   ]
  },
  {
   "cell_type": "code",
   "execution_count": 15,
   "metadata": {},
   "outputs": [
    {
     "data": {
      "text/plain": [
       "array([[ 2,  0,  0, ..., -1,  1,  0],\n",
       "       [ 2,  0,  1, ..., -2,  1,  0],\n",
       "       [ 2,  0,  0, ..., -1,  1,  0],\n",
       "       ...,\n",
       "       [ 0,  0,  0, ...,  0,  0,  0],\n",
       "       [ 0,  0,  0, ...,  0,  0,  0],\n",
       "       [ 0,  0,  0, ...,  0,  0,  0]], dtype=int64)"
      ]
     },
     "execution_count": 15,
     "metadata": {},
     "output_type": "execute_result"
    }
   ],
   "source": [
    "de_prep = np.copy(dc)\n",
    "dc_stand = stand(de_prep)\n",
    "dc_stand"
   ]
  },
  {
   "cell_type": "code",
   "execution_count": 16,
   "metadata": {},
   "outputs": [
    {
     "data": {
      "text/plain": [
       "array([[224, 131, 127, ...,  60, 223, 101],\n",
       "       [224, 124, 136, ...,  50, 224, 107],\n",
       "       [224, 104, 127, ...,  63, 225, 106],\n",
       "       ...,\n",
       "       [100, 104, 115, ..., 105, 180, 114],\n",
       "       [100, 124, 104, ..., 118, 182,  91],\n",
       "       [100, 124, 104, ..., 104, 177, 113]], dtype=int64)"
      ]
     },
     "execution_count": 16,
     "metadata": {},
     "output_type": "execute_result"
    }
   ],
   "source": [
    "dc"
   ]
  },
  {
   "cell_type": "code",
   "execution_count": 17,
   "metadata": {},
   "outputs": [
    {
     "data": {
      "text/plain": [
       "<matplotlib.image.AxesImage at 0x28d5daa1eb0>"
      ]
     },
     "execution_count": 17,
     "metadata": {},
     "output_type": "execute_result"
    },
    {
     "data": {
      "image/png": "[encoded data removed]",
      "text/plain": [
       "<Figure size 640x480 with 1 Axes>"
      ]
     },
     "metadata": {},
     "output_type": "display_data"
    }
   ],
   "source": [
    "fig, ax = plt.subplots()\n",
    "ax.imshow(np.asarray(dc_stand[:,102]).reshape(64, 64).T, cmap=plt.cm.bone, interpolation='nearest')"
   ]
  },
  {
   "cell_type": "markdown",
   "metadata": {},
   "source": [
    "# Challenge 2 - Using PCA\n",
    "\n",
    "Now that we have created a standardized matrix of cats and dogs, we'll find the two most important components in the data.\n",
    "\n",
    "Load the `PCA` function from `statsmodels` (read about this function [here](https://www.statsmodels.org/dev/generated/statsmodels.multivariate.pca.PCA.html)) and apply the function to our standarized data. Create a PCA model with two components."
   ]
  },
  {
   "cell_type": "code",
   "execution_count": 18,
   "metadata": {},
   "outputs": [
    {
     "data": {
      "text/plain": [
       "array([[-0.12692522, -0.13069747],\n",
       "       [-0.12888318,  0.0166622 ],\n",
       "       [ 0.02638035,  0.02942792],\n",
       "       [-0.04075754,  0.11858896],\n",
       "       [-0.07276603, -0.04009964],\n",
       "       [ 0.00406832,  0.16151679],\n",
       "       [-0.04976018,  0.01308829],\n",
       "       [-0.07048121,  0.09432868],\n",
       "       [-0.06384201,  0.11634322],\n",
       "       [-0.10576089, -0.05699742],\n",
       "       [-0.00611212,  0.10626264],\n",
       "       [-0.07202418,  0.06072108],\n",
       "       [-0.02100131,  0.00436779],\n",
       "       [-0.0071214 ,  0.0193367 ],\n",
       "       [-0.07470011,  0.05656499],\n",
       "       [-0.08677383,  0.10379417],\n",
       "       [-0.0463318 , -0.02090129],\n",
       "       [-0.14044599,  0.03185525],\n",
       "       [-0.06760094,  0.05453679],\n",
       "       [-0.07887996,  0.13448372],\n",
       "       [ 0.01952759,  0.14061652],\n",
       "       [-0.02836786,  0.12821065],\n",
       "       [-0.01585913,  0.00260094],\n",
       "       [-0.06853882,  0.11865909],\n",
       "       [-0.11269829,  0.06975689],\n",
       "       [-0.00423844,  0.10045597],\n",
       "       [-0.00896664,  0.02624475],\n",
       "       [ 0.00042455,  0.07027949],\n",
       "       [-0.04949081,  0.15066984],\n",
       "       [-0.04835145,  0.05772259],\n",
       "       [-0.03769709,  0.05677697],\n",
       "       [-0.0364891 ,  0.04190677],\n",
       "       [-0.11956023,  0.06594254],\n",
       "       [-0.08660861,  0.09720917],\n",
       "       [ 0.01075982,  0.15007904],\n",
       "       [-0.05762381, -0.02618788],\n",
       "       [ 0.03549552,  0.1257378 ],\n",
       "       [-0.00897811,  0.09570081],\n",
       "       [ 0.00242352,  0.12661687],\n",
       "       [-0.10938846,  0.00512589],\n",
       "       [-0.07097839,  0.0860094 ],\n",
       "       [-0.00864927, -0.09512079],\n",
       "       [ 0.01019206,  0.11309867],\n",
       "       [-0.05774552,  0.06663408],\n",
       "       [ 0.01655994,  0.04526689],\n",
       "       [-0.0638947 , -0.10387271],\n",
       "       [-0.05137035, -0.03306037],\n",
       "       [ 0.00902902,  0.02332742],\n",
       "       [-0.0073804 , -0.05276667],\n",
       "       [ 0.0535507 ,  0.11043708],\n",
       "       [-0.09076459, -0.05036004],\n",
       "       [-0.102305  , -0.14290347],\n",
       "       [ 0.01476157, -0.05162223],\n",
       "       [ 0.05191723,  0.14822086],\n",
       "       [ 0.05816102, -0.01213673],\n",
       "       [ 0.04599098,  0.00152811],\n",
       "       [-0.07144564, -0.05918532],\n",
       "       [-0.05126881, -0.06719025],\n",
       "       [ 0.03333446,  0.12234374],\n",
       "       [-0.00213976,  0.08434577],\n",
       "       [-0.04082174,  0.11916828],\n",
       "       [-0.08536682, -0.09607879],\n",
       "       [-0.10792523, -0.06700438],\n",
       "       [ 0.05904519, -0.02812046],\n",
       "       [ 0.00906169,  0.02797609],\n",
       "       [-0.08732342, -0.01502447],\n",
       "       [-0.00566145, -0.09339963],\n",
       "       [ 0.10669695,  0.06991186],\n",
       "       [ 0.01845275, -0.03984809],\n",
       "       [-0.06351832,  0.09799059],\n",
       "       [ 0.01929847,  0.00776634],\n",
       "       [-0.02216681,  0.09435308],\n",
       "       [-0.09211791,  0.06009429],\n",
       "       [ 0.03395818,  0.09323015],\n",
       "       [-0.01282816, -0.10455034],\n",
       "       [-0.11306405, -0.11070337],\n",
       "       [-0.08328593,  0.01067446],\n",
       "       [ 0.00579794,  0.1241174 ],\n",
       "       [-0.00198793,  0.11681854],\n",
       "       [-0.14178571, -0.02657727],\n",
       "       [ 0.07684152, -0.05030577],\n",
       "       [ 0.14023357, -0.01542967],\n",
       "       [-0.08979093, -0.0532098 ],\n",
       "       [-0.11657277, -0.03177676],\n",
       "       [ 0.09025019, -0.07967596],\n",
       "       [ 0.08529148, -0.11306896],\n",
       "       [ 0.14340003,  0.00545107],\n",
       "       [ 0.044133  , -0.07307771],\n",
       "       [ 0.12964587, -0.05246414],\n",
       "       [ 0.07477897, -0.10746363],\n",
       "       [ 0.00289229, -0.04325815],\n",
       "       [ 0.0077859 , -0.04625696],\n",
       "       [ 0.15898093, -0.0349427 ],\n",
       "       [ 0.1091702 , -0.0771304 ],\n",
       "       [-0.05822741, -0.10615938],\n",
       "       [ 0.10203399, -0.08298585],\n",
       "       [-0.06984886, -0.07242702],\n",
       "       [ 0.11637329, -0.05090922],\n",
       "       [-0.13618626, -0.03363292],\n",
       "       [ 0.15733863, -0.02935814],\n",
       "       [ 0.03644383, -0.08243149],\n",
       "       [ 0.10816596,  0.00037455],\n",
       "       [ 0.09900659,  0.0496861 ],\n",
       "       [ 0.10110977,  0.14539724],\n",
       "       [-0.14207829, -0.09675414],\n",
       "       [-0.00085972,  0.06854119],\n",
       "       [ 0.0954838 , -0.0982159 ],\n",
       "       [ 0.08814531,  0.06687906],\n",
       "       [-0.05856358, -0.05655274],\n",
       "       [ 0.05331064, -0.08224236],\n",
       "       [ 0.01705109, -0.08142179],\n",
       "       [-0.00921061, -0.09296608],\n",
       "       [ 0.09098655, -0.12255708],\n",
       "       [-0.09192986, -0.07170864],\n",
       "       [ 0.16895812,  0.02077381],\n",
       "       [ 0.02243039,  0.00352776],\n",
       "       [-0.14843005, -0.03517811],\n",
       "       [ 0.13351614, -0.01208575],\n",
       "       [ 0.05760236,  0.0537497 ],\n",
       "       [ 0.03124209, -0.06534103],\n",
       "       [ 0.03503249, -0.07910945],\n",
       "       [ 0.08158088, -0.06435901],\n",
       "       [ 0.10671166,  0.0448677 ],\n",
       "       [ 0.05414998,  0.06690649],\n",
       "       [ 0.10268659,  0.07728858],\n",
       "       [-0.08191185, -0.07532537],\n",
       "       [-0.1009238 , -0.02658102],\n",
       "       [-0.07532139, -0.07374654],\n",
       "       [ 0.13831577,  0.04771733],\n",
       "       [ 0.03475759, -0.06765889],\n",
       "       [ 0.06799777, -0.04502599],\n",
       "       [ 0.04533711,  0.02643783],\n",
       "       [ 0.15248439, -0.06760571],\n",
       "       [ 0.12602052, -0.0858345 ],\n",
       "       [-0.04605033, -0.12473301],\n",
       "       [ 0.10951791, -0.08155388],\n",
       "       [ 0.11403395, -0.16126589],\n",
       "       [ 0.0553496 ,  0.01991424],\n",
       "       [-0.07811468, -0.14814836],\n",
       "       [ 0.05757279,  0.09876043],\n",
       "       [ 0.00437334, -0.0039595 ],\n",
       "       [ 0.03987528, -0.10850292],\n",
       "       [ 0.14259946, -0.06388329],\n",
       "       [ 0.10694435,  0.04541263],\n",
       "       [-0.04164813, -0.03615415],\n",
       "       [ 0.02463171, -0.09788341],\n",
       "       [-0.15502837, -0.08604063],\n",
       "       [ 0.04744951, -0.04555892],\n",
       "       [-0.05873545, -0.0498178 ],\n",
       "       [-0.08632647, -0.00077898],\n",
       "       [-0.04881579, -0.05985795],\n",
       "       [ 0.1140859 ,  0.01741358],\n",
       "       [ 0.03292214, -0.10216703],\n",
       "       [-0.00712956, -0.01929553],\n",
       "       [-0.03850724, -0.02100758],\n",
       "       [ 0.07222197,  0.04691488],\n",
       "       [ 0.06640616,  0.10685023],\n",
       "       [ 0.12607862,  0.05847586],\n",
       "       [-0.04787413, -0.00120414],\n",
       "       [ 0.03027847, -0.07438833]])"
      ]
     },
     "execution_count": 18,
     "metadata": {},
     "output_type": "execute_result"
    }
   ],
   "source": [
    "# Your code here:\n",
    "from statsmodels.multivariate.pca import PCA\n",
    "components1= PCA(dc_stand.T, ncomp=2)\n",
    "components1.factors"
   ]
  },
  {
   "cell_type": "markdown",
   "metadata": {},
   "source": [
    "Use `numpy` to find to transpose the standardized pet array. This will help us compute the projection."
   ]
  },
  {
   "cell_type": "code",
   "execution_count": null,
   "metadata": {},
   "outputs": [],
   "source": []
  },
  {
   "cell_type": "markdown",
   "metadata": {},
   "source": [
    "Find the dot product of the transposed standardized pet matrix and the `factors` of the `PCA` model found above. This will be the projection onto 2 dimensions. This means that each cat and dog image will now only have two columns instead of 4096."
   ]
  },
  {
   "cell_type": "code",
   "execution_count": 14,
   "metadata": {},
   "outputs": [],
   "source": [
    "# Your code here:\n",
    "\n"
   ]
  },
  {
   "cell_type": "markdown",
   "metadata": {},
   "source": [
    "# Challenge 3 - Plotting the Data\n",
    "\n",
    "Now that we have reduced our cats and dogs arrays, we can easily plot the data in a way that the human eye can understand. We can look at this plot to see whether there are differences between the cat and dog images. \n",
    "\n",
    "In the cell below, turn the two dimensional projection into a pandas dataframe and name the columns `pc1`, and `pc2` respectively."
   ]
  },
  {
   "cell_type": "code",
   "execution_count": 20,
   "metadata": {},
   "outputs": [
    {
     "data": {
      "text/html": [
       "<div>\n",
       "<style scoped>\n",
       "    .dataframe tbody tr th:only-of-type {\n",
       "        vertical-align: middle;\n",
       "    }\n",
       "\n",
       "    .dataframe tbody tr th {\n",
       "        vertical-align: top;\n",
       "    }\n",
       "\n",
       "    .dataframe thead th {\n",
       "        text-align: right;\n",
       "    }\n",
       "</style>\n",
       "<table border=\"1\" class=\"dataframe\">\n",
       "  <thead>\n",
       "    <tr style=\"text-align: right;\">\n",
       "      <th></th>\n",
       "      <th>pca1</th>\n",
       "      <th>pca2</th>\n",
       "    </tr>\n",
       "  </thead>\n",
       "  <tbody>\n",
       "    <tr>\n",
       "      <th>0</th>\n",
       "      <td>28.711032</td>\n",
       "      <td>18.115624</td>\n",
       "    </tr>\n",
       "    <tr>\n",
       "      <th>1</th>\n",
       "      <td>23.587670</td>\n",
       "      <td>-8.602408</td>\n",
       "    </tr>\n",
       "    <tr>\n",
       "      <th>2</th>\n",
       "      <td>-6.250112</td>\n",
       "      <td>0.014061</td>\n",
       "    </tr>\n",
       "    <tr>\n",
       "      <th>3</th>\n",
       "      <td>4.152104</td>\n",
       "      <td>-18.677984</td>\n",
       "    </tr>\n",
       "    <tr>\n",
       "      <th>4</th>\n",
       "      <td>15.552876</td>\n",
       "      <td>-0.348204</td>\n",
       "    </tr>\n",
       "    <tr>\n",
       "      <th>...</th>\n",
       "      <td>...</td>\n",
       "      <td>...</td>\n",
       "    </tr>\n",
       "    <tr>\n",
       "      <th>155</th>\n",
       "      <td>-13.187091</td>\n",
       "      <td>-3.930781</td>\n",
       "    </tr>\n",
       "    <tr>\n",
       "      <th>156</th>\n",
       "      <td>-15.855803</td>\n",
       "      <td>-12.166073</td>\n",
       "    </tr>\n",
       "    <tr>\n",
       "      <th>157</th>\n",
       "      <td>-30.402676</td>\n",
       "      <td>-6.651352</td>\n",
       "    </tr>\n",
       "    <tr>\n",
       "      <th>158</th>\n",
       "      <td>13.311606</td>\n",
       "      <td>0.339219</td>\n",
       "    </tr>\n",
       "    <tr>\n",
       "      <th>159</th>\n",
       "      <td>-2.740837</td>\n",
       "      <td>10.387232</td>\n",
       "    </tr>\n",
       "  </tbody>\n",
       "</table>\n",
       "<p>160 rows × 2 columns</p>\n",
       "</div>"
      ],
      "text/plain": [
       "          pca1       pca2\n",
       "0    28.711032  18.115624\n",
       "1    23.587670  -8.602408\n",
       "2    -6.250112   0.014061\n",
       "3     4.152104 -18.677984\n",
       "4    15.552876  -0.348204\n",
       "..         ...        ...\n",
       "155 -13.187091  -3.930781\n",
       "156 -15.855803 -12.166073\n",
       "157 -30.402676  -6.651352\n",
       "158  13.311606   0.339219\n",
       "159  -2.740837  10.387232\n",
       "\n",
       "[160 rows x 2 columns]"
      ]
     },
     "execution_count": 20,
     "metadata": {},
     "output_type": "execute_result"
    }
   ],
   "source": [
    "# Your code here:\n",
    "df = pd.DataFrame(components2)\n",
    "df.columns =['pca1','pca2']\n",
    "df"
   ]
  },
  {
   "cell_type": "markdown",
   "metadata": {},
   "source": [
    "Create a labels list. This list will be of size 160. The first 80 elements in the list will be the word `blue`, and the last 80 elements will be `red`. This will ensure that all dog observations will be colored in blue and all cats will be colored in red. Name this list `colors`."
   ]
  },
  {
   "cell_type": "code",
   "execution_count": 21,
   "metadata": {},
   "outputs": [],
   "source": [
    "# Your code here:\n",
    "blue = ['blue']*80\n",
    "red = ['red']*80\n",
    "lables = blue + red\n",
    "# blue = dogs, red = cats"
   ]
  },
  {
   "cell_type": "markdown",
   "metadata": {},
   "source": [
    "Create a scatter plot of `pc1` and `pc2` below. Use the `colors` list above to color the observations by setting `c=colors`."
   ]
  },
  {
   "cell_type": "code",
   "execution_count": 22,
   "metadata": {},
   "outputs": [
    {
     "data": {
      "text/plain": [
       "<AxesSubplot:xlabel='pca1', ylabel='pca2'>"
      ]
     },
     "execution_count": 22,
     "metadata": {},
     "output_type": "execute_result"
    },
    {
     "data": {
      "image/png": "[encoded data removed]",
      "text/plain": [
       "<Figure size 640x480 with 1 Axes>"
      ]
     },
     "metadata": {},
     "output_type": "display_data"
    }
   ],
   "source": [
    "# Your code here:\n",
    "import seaborn as sns \n",
    "import matplotlib.pyplot as plt\n",
    "\n",
    "df.plot.scatter(x='pca1', y='pca2', c=lables)"
   ]
  },
  {
   "cell_type": "markdown",
   "metadata": {},
   "source": [
    "Do you see a clear separation between cats and dogs? Write your answer below."
   ]
  },
  {
   "cell_type": "code",
   "execution_count": 23,
   "metadata": {},
   "outputs": [],
   "source": [
    "# Your conclusions here:\n",
    "# There is slight difference between cats and dogs, also some intersection"
   ]
  },
  {
   "cell_type": "code",
   "execution_count": 24,
   "metadata": {},
   "outputs": [],
   "source": [
    "# Your code here:\n",
    "from sklearn.manifold import TSNE"
   ]
  },
  {
   "cell_type": "code",
   "execution_count": 25,
   "metadata": {},
   "outputs": [
    {
     "name": "stderr",
     "output_type": "stream",
     "text": [
      "c:\\Users\\borys\\Anaconda3\\lib\\site-packages\\sklearn\\manifold\\_t_sne.py:780: FutureWarning: The default initialization in TSNE will change from 'random' to 'pca' in 1.2.\n",
      "  warnings.warn(\n",
      "c:\\Users\\borys\\Anaconda3\\lib\\site-packages\\sklearn\\manifold\\_t_sne.py:790: FutureWarning: The default learning rate in TSNE will change from 200.0 to 'auto' in 1.2.\n",
      "  warnings.warn(\n"
     ]
    },
    {
     "name": "stdout",
     "output_type": "stream",
     "text": [
      "[t-SNE] Computing 121 nearest neighbors...\n",
      "[t-SNE] Indexed 160 samples in 0.000s...\n",
      "[t-SNE] Computed neighbors for 160 samples in 0.011s...\n",
      "[t-SNE] Computed conditional probabilities for sample 160 / 160\n",
      "[t-SNE] Mean sigma: 10.136090\n",
      "[t-SNE] KL divergence after 250 iterations with early exaggeration: 53.240791\n",
      "[t-SNE] KL divergence after 300 iterations: 0.242244\n"
     ]
    },
    {
     "data": {
      "text/plain": [
       "array([[-14.1248    ,   8.179253  ],\n",
       "       [ -5.55522   ,  10.29911   ],\n",
       "       [  1.0883836 ,  -3.0102835 ],\n",
       "       [  2.9564931 ,   6.9247766 ],\n",
       "       [ -7.8737664 ,   5.940643  ],\n",
       "       [  7.195886  ,   5.696281  ],\n",
       "       [ -4.3308244 ,   4.9173055 ],\n",
       "       [  0.77339226,   8.717225  ],\n",
       "       [  2.0047116 ,   8.452855  ],\n",
       "       [-10.836001  ,   6.9904466 ],\n",
       "       [  5.0101542 ,   4.1564174 ],\n",
       "       [ -1.9596303 ,   8.520398  ],\n",
       "       [ -2.0375366 ,   1.8149785 ],\n",
       "       [ -0.92738414,  -0.18023343],\n",
       "       [ -2.5229185 ,   7.0841875 ],\n",
       "       [ -0.57258576,  10.838276  ],\n",
       "       [ -5.7007127 ,   2.9297256 ],\n",
       "       [ -6.8868375 ,  10.644639  ],\n",
       "       [ -1.30882   ,   7.38326   ],\n",
       "       [  1.6350368 ,  10.7547245 ],\n",
       "       [  8.402325  ,   5.474865  ],\n",
       "       [  4.4264746 ,   6.7668347 ],\n",
       "       [ -4.2656875 ,   0.81787884],\n",
       "       [  2.3965282 ,   9.756844  ],\n",
       "       [ -2.457049  ,  10.877687  ],\n",
       "       [  4.8353457 ,   5.384519  ],\n",
       "       [ -1.8270843 ,  -0.6927443 ],\n",
       "       [  2.2061164 ,   2.7243724 ],\n",
       "       [  4.869968  ,   8.546343  ],\n",
       "       [ -1.5630063 ,   4.6658096 ],\n",
       "       [  0.85889906,   4.111623  ],\n",
       "       [ -0.19942996,   4.9588046 ],\n",
       "       [ -3.910243  ,  10.617235  ],\n",
       "       [  0.46473336,   9.985897  ],\n",
       "       [  7.430168  ,   4.053458  ],\n",
       "       [ -5.7095065 ,   4.4235606 ],\n",
       "       [  9.564862  ,   3.009818  ],\n",
       "       [  3.9580202 ,   4.3207855 ],\n",
       "       [  6.2919927 ,   4.6200833 ],\n",
       "       [ -6.321729  ,   8.827442  ],\n",
       "       [ -0.37549162,   8.703063  ],\n",
       "       [  5.1993027 ,  12.227429  ],\n",
       "       [  8.807562  ,   4.3488827 ],\n",
       "       [ -1.1534698 ,   9.610185  ],\n",
       "       [  2.551222  ,  -0.32737896],\n",
       "       [-11.766385  ,   2.7917755 ],\n",
       "       [ -4.2949147 ,   3.460492  ],\n",
       "       [  0.6922265 ,   0.28435743],\n",
       "       [ -5.855448  ,   0.16811404],\n",
       "       [  9.039037  ,   1.2885504 ],\n",
       "       [ -9.670716  ,   6.4070954 ],\n",
       "       [-16.383968  ,   6.8412576 ],\n",
       "       [ -3.5506148 ,  -5.640054  ],\n",
       "       [  8.459431  ,   2.7957394 ],\n",
       "       [  1.3091279 ,  -7.07614   ],\n",
       "       [  3.5617745 ,  -3.1760128 ],\n",
       "       [-10.499443  ,   3.8322499 ],\n",
       "       [ -9.344021  ,   1.4591726 ],\n",
       "       [  7.4738927 ,   0.615257  ],\n",
       "       [  3.528012  ,   2.2846498 ],\n",
       "       [  3.443166  ,   8.453567  ],\n",
       "       [-13.387065  ,   4.987083  ],\n",
       "       [-12.245882  ,   8.550027  ],\n",
       "       [  2.2300718 ,  -7.950293  ],\n",
       "       [  2.7843864 ,   1.0230367 ],\n",
       "       [ -8.569951  ,   7.6855936 ],\n",
       "       [ -6.1529675 ,  -5.829838  ],\n",
       "       [ 11.065847  ,  -4.8504896 ],\n",
       "       [ -1.956779  ,  -2.6297362 ],\n",
       "       [  0.08802924,   7.276047  ],\n",
       "       [  1.4300952 ,  -0.78163725],\n",
       "       [  1.8894795 ,   5.34311   ],\n",
       "       [ -3.24243   ,   9.084749  ],\n",
       "       [  7.336611  ,   1.9514219 ],\n",
       "       [ -6.912887  ,  -6.730355  ],\n",
       "       [-14.347115  ,   6.764946  ],\n",
       "       [ -5.914403  ,   7.1405115 ],\n",
       "       [  6.1556163 ,   3.1614046 ],\n",
       "       [  6.214502  ,   6.2131724 ],\n",
       "       [-11.359016  ,   9.737876  ],\n",
       "       [  1.3892429 , -10.294768  ],\n",
       "       [  8.873737  ,  -9.220783  ],\n",
       "       [-12.271801  ,   7.316318  ],\n",
       "       [ -9.75206   ,   9.018611  ],\n",
       "       [  1.8909515 , -12.362424  ],\n",
       "       [  0.4857763 , -12.218019  ],\n",
       "       [  9.238737  ,  -8.166878  ],\n",
       "       [ -0.4186912 ,  -8.2658615 ],\n",
       "       [  7.4746943 , -11.020076  ],\n",
       "       [  0.2780584 , -10.585456  ],\n",
       "       [ -3.6466463 ,  -1.8136964 ],\n",
       "       [ -2.3740554 ,  -4.270904  ],\n",
       "       [  6.968902  ,  -9.2552    ],\n",
       "       [  3.4370165 , -12.330564  ],\n",
       "       [-12.819072  ,   3.7495847 ],\n",
       "       [  3.657386  , -10.610234  ],\n",
       "       [-11.891895  ,   4.7353396 ],\n",
       "       [  5.975548  , -12.336152  ],\n",
       "       [ -9.932113  ,  10.46676   ],\n",
       "       [  7.9685497 , -10.00953   ],\n",
       "       [ -2.0133214 ,  -8.918767  ],\n",
       "       [ 10.282271  ,  -9.453694  ],\n",
       "       [ 11.084692  ,  -6.5105705 ],\n",
       "       [  8.666568  ,  -2.8750658 ],\n",
       "       [-16.314291  ,   8.681828  ],\n",
       "       [  1.1915783 ,   1.1454931 ],\n",
       "       [  2.4712548 , -11.346319  ],\n",
       "       [ 10.334825  ,  -3.4609106 ],\n",
       "       [ -9.141393  ,   3.5814576 ],\n",
       "       [ -0.41242048,  -9.546411  ],\n",
       "       [ -4.258467  ,  -6.917026  ],\n",
       "       [ -7.870025  ,  -4.864083  ],\n",
       "       [  1.1704302 , -13.561976  ],\n",
       "       [-13.089308  ,   6.497922  ],\n",
       "       [  7.7876515 ,  -7.670643  ],\n",
       "       [  2.274666  ,  -2.2092018 ],\n",
       "       [-12.512073  ,  10.658818  ],\n",
       "       [  9.105485  , -10.890256  ],\n",
       "       [  9.854629  ,  -1.8094    ],\n",
       "       [ -1.9389117 ,  -7.486511  ],\n",
       "       [ -0.9459331 ,  -6.483731  ],\n",
       "       [  2.0619366 ,  -9.587927  ],\n",
       "       [  9.206059  ,  -5.684261  ],\n",
       "       [  7.456276  ,  -0.6473639 ],\n",
       "       [  9.127594  ,  -4.2646594 ],\n",
       "       [-11.897717  ,   5.8491387 ],\n",
       "       [-10.404771  ,   8.047603  ],\n",
       "       [-10.752349  ,   5.521268  ],\n",
       "       [ 10.839309  ,  -7.7664657 ],\n",
       "       [ -1.0861051 ,  -5.3429866 ],\n",
       "       [  0.7848876 ,  -8.758401  ],\n",
       "       [  5.0623903 ,  -1.7480468 ],\n",
       "       [  6.1473107 , -10.669223  ],\n",
       "       [  4.9207606 , -11.303733  ],\n",
       "       [-13.082747  ,   2.4592211 ],\n",
       "       [  4.5762196 , -12.793858  ],\n",
       "       [  2.7868001 , -13.857494  ],\n",
       "       [  2.7184637 ,  -4.3009467 ],\n",
       "       [-14.920104  ,   9.798245  ],\n",
       "       [  9.137187  ,  -0.20104676],\n",
       "       [ -0.35816503,  -2.2581165 ],\n",
       "       [ -1.424828  , -10.734226  ],\n",
       "       [  7.7031837 , -12.206168  ],\n",
       "       [ 10.226366  ,  -5.522177  ],\n",
       "       [ -7.115125  ,   3.285181  ],\n",
       "       [ -3.7158165 ,  -8.257172  ],\n",
       "       [-15.26378   ,   8.384349  ],\n",
       "       [  0.68124586,  -5.717886  ],\n",
       "       [ -9.701715  ,   4.928805  ],\n",
       "       [ -7.392293  ,   6.948365  ],\n",
       "       [-10.345367  ,   2.5580993 ],\n",
       "       [  9.717037  ,  -6.8404565 ],\n",
       "       [ -2.784231  , -10.189914  ],\n",
       "       [ -3.485258  ,  -3.4732883 ],\n",
       "       [ -6.871818  ,   1.973125  ],\n",
       "       [  6.0720925 ,  -2.8687525 ],\n",
       "       [  8.459896  ,  -1.2407328 ],\n",
       "       [  8.098243  ,  -6.001885  ],\n",
       "       [ -7.2187495 ,   4.8304462 ],\n",
       "       [ -2.5427682 ,  -6.399271  ]], dtype=float32)"
      ]
     },
     "execution_count": 25,
     "metadata": {},
     "output_type": "execute_result"
    }
   ],
   "source": [
    "# Your code here:\n",
    "tsne = TSNE(n_components=2, verbose=1, perplexity=40, n_iter=300)\n",
    "df_tsne = tsne.fit_transform(df)\n",
    "df_tsne"
   ]
  },
  {
   "cell_type": "code",
   "execution_count": 28,
   "metadata": {},
   "outputs": [
    {
     "data": {
      "text/html": [
       "<div>\n",
       "<style scoped>\n",
       "    .dataframe tbody tr th:only-of-type {\n",
       "        vertical-align: middle;\n",
       "    }\n",
       "\n",
       "    .dataframe tbody tr th {\n",
       "        vertical-align: top;\n",
       "    }\n",
       "\n",
       "    .dataframe thead th {\n",
       "        text-align: right;\n",
       "    }\n",
       "</style>\n",
       "<table border=\"1\" class=\"dataframe\">\n",
       "  <thead>\n",
       "    <tr style=\"text-align: right;\">\n",
       "      <th></th>\n",
       "      <th>tsne1</th>\n",
       "      <th>tsne2</th>\n",
       "    </tr>\n",
       "  </thead>\n",
       "  <tbody>\n",
       "    <tr>\n",
       "      <th>0</th>\n",
       "      <td>-14.124800</td>\n",
       "      <td>8.179253</td>\n",
       "    </tr>\n",
       "    <tr>\n",
       "      <th>1</th>\n",
       "      <td>-5.555220</td>\n",
       "      <td>10.299110</td>\n",
       "    </tr>\n",
       "    <tr>\n",
       "      <th>2</th>\n",
       "      <td>1.088384</td>\n",
       "      <td>-3.010283</td>\n",
       "    </tr>\n",
       "    <tr>\n",
       "      <th>3</th>\n",
       "      <td>2.956493</td>\n",
       "      <td>6.924777</td>\n",
       "    </tr>\n",
       "    <tr>\n",
       "      <th>4</th>\n",
       "      <td>-7.873766</td>\n",
       "      <td>5.940643</td>\n",
       "    </tr>\n",
       "    <tr>\n",
       "      <th>...</th>\n",
       "      <td>...</td>\n",
       "      <td>...</td>\n",
       "    </tr>\n",
       "    <tr>\n",
       "      <th>155</th>\n",
       "      <td>6.072093</td>\n",
       "      <td>-2.868752</td>\n",
       "    </tr>\n",
       "    <tr>\n",
       "      <th>156</th>\n",
       "      <td>8.459896</td>\n",
       "      <td>-1.240733</td>\n",
       "    </tr>\n",
       "    <tr>\n",
       "      <th>157</th>\n",
       "      <td>8.098243</td>\n",
       "      <td>-6.001885</td>\n",
       "    </tr>\n",
       "    <tr>\n",
       "      <th>158</th>\n",
       "      <td>-7.218750</td>\n",
       "      <td>4.830446</td>\n",
       "    </tr>\n",
       "    <tr>\n",
       "      <th>159</th>\n",
       "      <td>-2.542768</td>\n",
       "      <td>-6.399271</td>\n",
       "    </tr>\n",
       "  </tbody>\n",
       "</table>\n",
       "<p>160 rows × 2 columns</p>\n",
       "</div>"
      ],
      "text/plain": [
       "         tsne1      tsne2\n",
       "0   -14.124800   8.179253\n",
       "1    -5.555220  10.299110\n",
       "2     1.088384  -3.010283\n",
       "3     2.956493   6.924777\n",
       "4    -7.873766   5.940643\n",
       "..         ...        ...\n",
       "155   6.072093  -2.868752\n",
       "156   8.459896  -1.240733\n",
       "157   8.098243  -6.001885\n",
       "158  -7.218750   4.830446\n",
       "159  -2.542768  -6.399271\n",
       "\n",
       "[160 rows x 2 columns]"
      ]
     },
     "execution_count": 28,
     "metadata": {},
     "output_type": "execute_result"
    }
   ],
   "source": [
    "df2 = pd.DataFrame(df_tsne)\n",
    "df2.columns =['tsne1','tsne2']\n",
    "df2\n",
    "# it's more or less the same results with pca, 2 clusters a bit different and intersected"
   ]
  },
  {
   "cell_type": "code",
   "execution_count": 29,
   "metadata": {},
   "outputs": [
    {
     "data": {
      "text/plain": [
       "<matplotlib.collections.PathCollection at 0x28d60cb8490>"
      ]
     },
     "execution_count": 29,
     "metadata": {},
     "output_type": "execute_result"
    },
    {
     "data": {
      "image/png": "[encoded data removed]",
      "text/plain": [
       "<Figure size 640x480 with 1 Axes>"
      ]
     },
     "metadata": {},
     "output_type": "display_data"
    }
   ],
   "source": [
    "plt.scatter(df2['tsne1'],df2['tsne2'], c=lables)"
   ]
  }
 ],
 "metadata": {
  "kernelspec": {
   "display_name": "Python 3.9.13 ('base')",
   "language": "python",
   "name": "python3"
  },
  "language_info": {
   "codemirror_mode": {
    "name": "ipython",
    "version": 3
   },
   "file_extension": ".py",
   "mimetype": "text/x-python",
   "name": "python",
   "nbconvert_exporter": "python",
   "pygments_lexer": "ipython3",
   "version": "3.9.13"
  },
  "vscode": {
   "interpreter": {
    "hash": "ebac83421125e5964ae08d815b1e313203a77faad1c992ab62a45fc777f388ae"
   }
  }
 },
 "nbformat": 4,
 "nbformat_minor": 2
}
